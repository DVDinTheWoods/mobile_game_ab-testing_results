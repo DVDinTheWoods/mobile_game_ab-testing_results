{
 "cells": [
  {
   "cell_type": "markdown",
   "metadata": {},
   "source": [
    "## Описание"
   ]
  },
  {
   "cell_type": "markdown",
   "metadata": {},
   "source": [
    "Имеются результаты A/B теста**, в котором двум группам пользователей предлагались различные наборы акционных предложений. Известно, что ARPU в тестовой группе выше на 5%, чем в контрольной. При этом в контрольной группе 1928 игроков из 202103 оказались платящими, а в тестовой – 1805 из 202667.\n",
    "\n",
    "Какой набор предложений можно считать лучшим? Какие метрики стоит проанализировать для принятия правильного решения и как?\n",
    "\n",
    "** Данные взяты из материалов курса **Karpov Courses** \"Аналитик данных\" "
   ]
  },
  {
   "cell_type": "markdown",
   "metadata": {},
   "source": [
    "**Импортируем необходимые для работы бибилиотеки**"
   ]
  },
  {
   "cell_type": "code",
   "execution_count": 1,
   "metadata": {},
   "outputs": [],
   "source": [
    "#Для работы с данными\n",
    "import pandas as pd\n",
    "import numpy as np\n",
    "\n",
    "#Для визуализации данных\n",
    "import seaborn as sns\n",
    "import matplotlib.pyplot as plt\n",
    "\n",
    "#Для статистических выводов\n",
    "import scipy.stats as stats\n",
    "from scipy.stats import levene\n",
    "from scipy.stats import chi2_contingency "
   ]
  },
  {
   "cell_type": "markdown",
   "metadata": {},
   "source": [
    "**Загрузим файл с результатами тестирования и проведем разведочный анализ**"
   ]
  },
  {
   "cell_type": "code",
   "execution_count": 2,
   "metadata": {},
   "outputs": [],
   "source": [
    "df = pd.read_csv(\"https://getfile.dokpub.com/yandex/get/https://disk.yandex.ru/d/veWQXEIdZMOzXQ\", sep=\";\")"
   ]
  },
  {
   "cell_type": "code",
   "execution_count": 3,
   "metadata": {},
   "outputs": [
    {
     "data": {
      "text/html": [
       "<div>\n",
       "<style scoped>\n",
       "    .dataframe tbody tr th:only-of-type {\n",
       "        vertical-align: middle;\n",
       "    }\n",
       "\n",
       "    .dataframe tbody tr th {\n",
       "        vertical-align: top;\n",
       "    }\n",
       "\n",
       "    .dataframe thead th {\n",
       "        text-align: right;\n",
       "    }\n",
       "</style>\n",
       "<table border=\"1\" class=\"dataframe\">\n",
       "  <thead>\n",
       "    <tr style=\"text-align: right;\">\n",
       "      <th></th>\n",
       "      <th>user_id</th>\n",
       "      <th>revenue</th>\n",
       "      <th>testgroup</th>\n",
       "    </tr>\n",
       "  </thead>\n",
       "  <tbody>\n",
       "    <tr>\n",
       "      <th>0</th>\n",
       "      <td>1</td>\n",
       "      <td>0</td>\n",
       "      <td>b</td>\n",
       "    </tr>\n",
       "    <tr>\n",
       "      <th>1</th>\n",
       "      <td>2</td>\n",
       "      <td>0</td>\n",
       "      <td>a</td>\n",
       "    </tr>\n",
       "    <tr>\n",
       "      <th>2</th>\n",
       "      <td>3</td>\n",
       "      <td>0</td>\n",
       "      <td>a</td>\n",
       "    </tr>\n",
       "    <tr>\n",
       "      <th>3</th>\n",
       "      <td>4</td>\n",
       "      <td>0</td>\n",
       "      <td>b</td>\n",
       "    </tr>\n",
       "    <tr>\n",
       "      <th>4</th>\n",
       "      <td>5</td>\n",
       "      <td>0</td>\n",
       "      <td>b</td>\n",
       "    </tr>\n",
       "  </tbody>\n",
       "</table>\n",
       "</div>"
      ],
      "text/plain": [
       "   user_id  revenue testgroup\n",
       "0        1        0         b\n",
       "1        2        0         a\n",
       "2        3        0         a\n",
       "3        4        0         b\n",
       "4        5        0         b"
      ]
     },
     "execution_count": 3,
     "metadata": {},
     "output_type": "execute_result"
    }
   ],
   "source": [
    "df.head()"
   ]
  },
  {
   "cell_type": "code",
   "execution_count": 4,
   "metadata": {},
   "outputs": [
    {
     "name": "stdout",
     "output_type": "stream",
     "text": [
      "<class 'pandas.core.frame.DataFrame'>\n",
      "RangeIndex: 404770 entries, 0 to 404769\n",
      "Data columns (total 3 columns):\n",
      " #   Column     Non-Null Count   Dtype \n",
      "---  ------     --------------   ----- \n",
      " 0   user_id    404770 non-null  int64 \n",
      " 1   revenue    404770 non-null  int64 \n",
      " 2   testgroup  404770 non-null  object\n",
      "dtypes: int64(2), object(1)\n",
      "memory usage: 9.3+ MB\n"
     ]
    }
   ],
   "source": [
    "#Посмотрим на общую информацию по датасету\n",
    "df.info()"
   ]
  },
  {
   "cell_type": "code",
   "execution_count": 5,
   "metadata": {},
   "outputs": [
    {
     "data": {
      "text/plain": [
       "user_id      0\n",
       "revenue      0\n",
       "testgroup    0\n",
       "dtype: int64"
      ]
     },
     "execution_count": 5,
     "metadata": {},
     "output_type": "execute_result"
    }
   ],
   "source": [
    "#Нулевых значений не обнаружено\n",
    "df.isnull().sum()"
   ]
  },
  {
   "cell_type": "code",
   "execution_count": 6,
   "metadata": {},
   "outputs": [
    {
     "data": {
      "text/plain": [
       "user_id      404770\n",
       "revenue        1477\n",
       "testgroup         2\n",
       "dtype: int64"
      ]
     },
     "execution_count": 6,
     "metadata": {},
     "output_type": "execute_result"
    }
   ],
   "source": [
    "#В датасете отсутствуют повторяющиеся значения user_id\n",
    "df.nunique()"
   ]
  },
  {
   "cell_type": "code",
   "execution_count": 7,
   "metadata": {},
   "outputs": [
    {
     "data": {
      "text/plain": [
       "37433"
      ]
     },
     "execution_count": 7,
     "metadata": {},
     "output_type": "execute_result"
    }
   ],
   "source": [
    "#Проверим показатели Revenue на отрицательные значения, а также посмотрим на максимальные и минимальные значения\n",
    "df.revenue.max()"
   ]
  },
  {
   "cell_type": "code",
   "execution_count": 8,
   "metadata": {},
   "outputs": [
    {
     "data": {
      "text/plain": [
       "0"
      ]
     },
     "execution_count": 8,
     "metadata": {},
     "output_type": "execute_result"
    }
   ],
   "source": [
    "df.revenue.min()"
   ]
  },
  {
   "cell_type": "code",
   "execution_count": 9,
   "metadata": {},
   "outputs": [
    {
     "data": {
      "text/html": [
       "<div>\n",
       "<style scoped>\n",
       "    .dataframe tbody tr th:only-of-type {\n",
       "        vertical-align: middle;\n",
       "    }\n",
       "\n",
       "    .dataframe tbody tr th {\n",
       "        vertical-align: top;\n",
       "    }\n",
       "\n",
       "    .dataframe thead th {\n",
       "        text-align: right;\n",
       "    }\n",
       "</style>\n",
       "<table border=\"1\" class=\"dataframe\">\n",
       "  <thead>\n",
       "    <tr style=\"text-align: right;\">\n",
       "      <th></th>\n",
       "      <th>testgroup</th>\n",
       "      <th>user_id</th>\n",
       "      <th>revenue</th>\n",
       "    </tr>\n",
       "  </thead>\n",
       "  <tbody>\n",
       "    <tr>\n",
       "      <th>0</th>\n",
       "      <td>a</td>\n",
       "      <td>202103</td>\n",
       "      <td>5136189</td>\n",
       "    </tr>\n",
       "    <tr>\n",
       "      <th>1</th>\n",
       "      <td>b</td>\n",
       "      <td>202667</td>\n",
       "      <td>5421603</td>\n",
       "    </tr>\n",
       "  </tbody>\n",
       "</table>\n",
       "</div>"
      ],
      "text/plain": [
       "  testgroup  user_id  revenue\n",
       "0         a   202103  5136189\n",
       "1         b   202667  5421603"
      ]
     },
     "execution_count": 9,
     "metadata": {},
     "output_type": "execute_result"
    }
   ],
   "source": [
    "#Посмотрим на распределение пользователей по группам\n",
    "df.groupby('testgroup').agg({'user_id':'nunique', 'revenue': 'sum'}).reset_index()"
   ]
  },
  {
   "cell_type": "markdown",
   "metadata": {},
   "source": [
    "**Общая информация**\n",
    "\n",
    "- Нулевых значений (NaN) в датасете не обнаружено;\n",
    "- В датасете **404 770** уникальных пользователя;\n",
    "- Отрицательные значения Revenue отсутствуют. Максимальный показатель - **37 433**, минимальный - 0;\n",
    "- Контрольная группа(**a**) - **202 103** **уникальных** пользователя, тестовая(**b**) - **202 667** **уникальных**."
   ]
  },
  {
   "cell_type": "code",
   "execution_count": 10,
   "metadata": {},
   "outputs": [
    {
     "data": {
      "text/plain": [
       "count    202103.000000\n",
       "mean         25.413720\n",
       "std         920.768137\n",
       "min           0.000000\n",
       "25%           0.000000\n",
       "50%           0.000000\n",
       "75%           0.000000\n",
       "max       37433.000000\n",
       "Name: revenue, dtype: float64"
      ]
     },
     "execution_count": 10,
     "metadata": {},
     "output_type": "execute_result"
    }
   ],
   "source": [
    "#Контрольная группа\n",
    "df.query('testgroup == \"a\"').revenue.describe()"
   ]
  },
  {
   "cell_type": "code",
   "execution_count": 11,
   "metadata": {},
   "outputs": [
    {
     "data": {
      "text/plain": [
       "5136189"
      ]
     },
     "execution_count": 11,
     "metadata": {},
     "output_type": "execute_result"
    }
   ],
   "source": [
    "#Контрольная группа. Общая выручка\n",
    "df.query('testgroup == \"a\"').revenue.sum()"
   ]
  },
  {
   "cell_type": "code",
   "execution_count": 12,
   "metadata": {},
   "outputs": [
    {
     "data": {
      "text/plain": [
       "25.413719736965806"
      ]
     },
     "execution_count": 12,
     "metadata": {},
     "output_type": "execute_result"
    }
   ],
   "source": [
    "#Контрольная группа. Средний показатель выручки\n",
    "df.query('testgroup == \"a\"').revenue.describe().iloc[1]"
   ]
  },
  {
   "cell_type": "code",
   "execution_count": 13,
   "metadata": {},
   "outputs": [
    {
     "data": {
      "text/plain": [
       "count     1928.000000\n",
       "mean      2663.998444\n",
       "std       9049.039763\n",
       "min        200.000000\n",
       "25%        257.000000\n",
       "50%        311.000000\n",
       "75%        361.000000\n",
       "max      37433.000000\n",
       "Name: revenue, dtype: float64"
      ]
     },
     "execution_count": 13,
     "metadata": {},
     "output_type": "execute_result"
    }
   ],
   "source": [
    "#Контрольная группа. Платящие пользователи\n",
    "df.query('testgroup == \"a\" & revenue > 0').revenue.describe()"
   ]
  },
  {
   "cell_type": "code",
   "execution_count": 14,
   "metadata": {},
   "outputs": [
    {
     "data": {
      "text/plain": [
       "0.9539690157988748"
      ]
     },
     "execution_count": 14,
     "metadata": {},
     "output_type": "execute_result"
    }
   ],
   "source": [
    "#Контрольная группа. Доля платящих пользователей\n",
    "df.query('testgroup == \"a\" & revenue > 0').user_id.nunique() / df.query('testgroup == \"a\"').user_id.nunique() * 100"
   ]
  },
  {
   "cell_type": "code",
   "execution_count": 15,
   "metadata": {},
   "outputs": [
    {
     "data": {
      "text/plain": [
       "2663.9984439834025"
      ]
     },
     "execution_count": 15,
     "metadata": {},
     "output_type": "execute_result"
    }
   ],
   "source": [
    "#Контрольная группа. Средний показатель выручки для платящих пользователей\n",
    "df.query('testgroup == \"a\" & revenue > 0').revenue.describe().iloc[1]"
   ]
  },
  {
   "cell_type": "code",
   "execution_count": 16,
   "metadata": {},
   "outputs": [
    {
     "data": {
      "text/html": [
       "<div>\n",
       "<style scoped>\n",
       "    .dataframe tbody tr th:only-of-type {\n",
       "        vertical-align: middle;\n",
       "    }\n",
       "\n",
       "    .dataframe tbody tr th {\n",
       "        vertical-align: top;\n",
       "    }\n",
       "\n",
       "    .dataframe thead th {\n",
       "        text-align: right;\n",
       "    }\n",
       "</style>\n",
       "<table border=\"1\" class=\"dataframe\">\n",
       "  <thead>\n",
       "    <tr style=\"text-align: right;\">\n",
       "      <th></th>\n",
       "      <th>revenue</th>\n",
       "    </tr>\n",
       "    <tr>\n",
       "      <th>user_id</th>\n",
       "      <th></th>\n",
       "    </tr>\n",
       "  </thead>\n",
       "  <tbody>\n",
       "    <tr>\n",
       "      <th>101862</th>\n",
       "      <td>37433</td>\n",
       "    </tr>\n",
       "    <tr>\n",
       "      <th>196602</th>\n",
       "      <td>37407</td>\n",
       "    </tr>\n",
       "    <tr>\n",
       "      <th>65078</th>\n",
       "      <td>37394</td>\n",
       "    </tr>\n",
       "    <tr>\n",
       "      <th>21586</th>\n",
       "      <td>37385</td>\n",
       "    </tr>\n",
       "    <tr>\n",
       "      <th>142805</th>\n",
       "      <td>37379</td>\n",
       "    </tr>\n",
       "    <tr>\n",
       "      <th>...</th>\n",
       "      <td>...</td>\n",
       "    </tr>\n",
       "    <tr>\n",
       "      <th>119129</th>\n",
       "      <td>200</td>\n",
       "    </tr>\n",
       "    <tr>\n",
       "      <th>246510</th>\n",
       "      <td>200</td>\n",
       "    </tr>\n",
       "    <tr>\n",
       "      <th>230063</th>\n",
       "      <td>200</td>\n",
       "    </tr>\n",
       "    <tr>\n",
       "      <th>340913</th>\n",
       "      <td>200</td>\n",
       "    </tr>\n",
       "    <tr>\n",
       "      <th>104976</th>\n",
       "      <td>200</td>\n",
       "    </tr>\n",
       "  </tbody>\n",
       "</table>\n",
       "<p>1928 rows × 1 columns</p>\n",
       "</div>"
      ],
      "text/plain": [
       "         revenue\n",
       "user_id         \n",
       "101862     37433\n",
       "196602     37407\n",
       "65078      37394\n",
       "21586      37385\n",
       "142805     37379\n",
       "...          ...\n",
       "119129       200\n",
       "246510       200\n",
       "230063       200\n",
       "340913       200\n",
       "104976       200\n",
       "\n",
       "[1928 rows x 1 columns]"
      ]
     },
     "execution_count": 16,
     "metadata": {},
     "output_type": "execute_result"
    }
   ],
   "source": [
    "#Посмотрим на распределение выручки по пользователям в контрольной группе\n",
    "df.query('testgroup == \"a\" & revenue > 0') \\\n",
    "    .groupby('user_id') \\\n",
    "    .agg({'revenue': 'sum'}) \\\n",
    "    .sort_values('revenue', ascending=False)"
   ]
  },
  {
   "cell_type": "code",
   "execution_count": 17,
   "metadata": {},
   "outputs": [
    {
     "data": {
      "text/plain": [
       "<Axes: >"
      ]
     },
     "execution_count": 17,
     "metadata": {},
     "output_type": "execute_result"
    },
    {
     "data": {
      "image/png": "[encoded data removed]",
      "text/plain": [
       "<Figure size 1000x500 with 1 Axes>"
      ]
     },
     "metadata": {},
     "output_type": "display_data"
    }
   ],
   "source": [
    "# На графике наблюдаем, что показатели выручки около сотни пользователей значительно превышают значения большей части группы\n",
    "fig = plt.figure(figsize = (10,5))\n",
    "ax = fig.gca()\n",
    "df.query('testgroup == \"a\" & revenue > 0').revenue.hist(ax=ax)"
   ]
  },
  {
   "cell_type": "code",
   "execution_count": 18,
   "metadata": {},
   "outputs": [
    {
     "data": {
      "text/plain": [
       "123"
      ]
     },
     "execution_count": 18,
     "metadata": {},
     "output_type": "execute_result"
    }
   ],
   "source": [
    "# Кол-во пользователей в контрольной группе с большой выручкой\n",
    "df.query('testgroup == \"a\" & revenue > 0') \\\n",
    "    .groupby('user_id') \\\n",
    "    .agg({'revenue': 'sum'}) \\\n",
    "    .sort_values('revenue', ascending=False) \\\n",
    "    .query('revenue > 30000').reset_index().nunique().iloc[0]"
   ]
  },
  {
   "cell_type": "code",
   "execution_count": 19,
   "metadata": {},
   "outputs": [
    {
     "data": {
      "text/plain": [
       "4590252"
      ]
     },
     "execution_count": 19,
     "metadata": {},
     "output_type": "execute_result"
    }
   ],
   "source": [
    "# Выручка от таких пользователей в контрольной группе\n",
    "df.query('testgroup == \"a\" & revenue > 0') \\\n",
    "    .groupby('user_id') \\\n",
    "    .agg({'revenue': 'sum'}) \\\n",
    "    .sort_values('revenue', ascending=False) \\\n",
    "    .query('revenue > 30000').reset_index().revenue.sum()"
   ]
  },
  {
   "cell_type": "code",
   "execution_count": 20,
   "metadata": {},
   "outputs": [
    {
     "data": {
      "text/plain": [
       "count    1805.000000\n",
       "mean      302.458172\n",
       "std        57.914246\n",
       "min       200.000000\n",
       "25%       254.000000\n",
       "50%       305.000000\n",
       "75%       352.000000\n",
       "max       400.000000\n",
       "Name: revenue, dtype: float64"
      ]
     },
     "execution_count": 20,
     "metadata": {},
     "output_type": "execute_result"
    }
   ],
   "source": [
    "# Выручка в контрольной группе без \"особых\" пользователей\n",
    "df.query('testgroup == \"a\" & revenue > 0 & revenue < 30000') \\\n",
    "    .groupby('user_id') \\\n",
    "    .agg({'revenue': 'sum'}) \\\n",
    "    .sort_values('revenue', ascending=False).revenue.describe()"
   ]
  },
  {
   "cell_type": "code",
   "execution_count": 21,
   "metadata": {},
   "outputs": [
    {
     "data": {
      "text/plain": [
       "545937"
      ]
     },
     "execution_count": 21,
     "metadata": {},
     "output_type": "execute_result"
    }
   ],
   "source": [
    "# Выручка в контрольной группе без \"особых\" пользователей\n",
    "df.query('testgroup == \"a\" & revenue > 0 & revenue < 30000') \\\n",
    "    .groupby('user_id') \\\n",
    "    .agg({'revenue': 'sum'}) \\\n",
    "    .sort_values('revenue', ascending=False).revenue.sum()"
   ]
  },
  {
   "cell_type": "markdown",
   "metadata": {},
   "source": [
    "**Контрольная группа(а)**\n",
    "\n",
    "- Средний показатель выручки по всей группе - **25.413720**;\n",
    "- Общая выручка по всей группе - **5 136 189**;\n",
    "- Количество платящих пользователей в группе - **1928**;\n",
    "- Доля платящих пользователей в группе - **0.95%**;\n",
    "- Средний показатель выручки по платящим пользователям в группе - **2663.998444**:\n",
    "    - Минимальный показатель выручки по платящим пользователям в группе - **200**;\n",
    "    - Максимальный показатель выручки по платящим пользователям в группе - **37433**;\n",
    "- На **123** пользователя (**~6.4%**) приходится **89%** (**4 590 252**) выручки;\n",
    "- При этом для остальных **1805** платящих пользователей средний показатель выручки равен **302** (**200** - минимальное значение, **400** - максимальное).\n",
    "\n",
    "***Природа таких пользователей и их показателей нам не известна. Мы можем предполагать, что данные пользователи взаимодействовали с определенными акционными предложениями (механика которых также нам не известна), что привело к таким показателям выручки, но на данный момент анализа это выглядит подозрительно.*** \n",
    "\n",
    "***Возможно это особые пользователи (с привилегиями, подпиской и т.д.) или пользователи, попавшие на особые предложения в рамках теста.\n",
    "Нельзя также исключать некоторую неточность на этапе сплитования групп для теста.***\n",
    "\n",
    "Посмотрим далее на данные тестовой группы и попробуем прийти к заключению по этому вопросу."
   ]
  },
  {
   "cell_type": "code",
   "execution_count": 22,
   "metadata": {},
   "outputs": [
    {
     "data": {
      "text/plain": [
       "count    202667.000000\n",
       "mean         26.751287\n",
       "std         287.324162\n",
       "min           0.000000\n",
       "25%           0.000000\n",
       "50%           0.000000\n",
       "75%           0.000000\n",
       "max        4000.000000\n",
       "Name: revenue, dtype: float64"
      ]
     },
     "execution_count": 22,
     "metadata": {},
     "output_type": "execute_result"
    }
   ],
   "source": [
    "#Тестовая группа\n",
    "df.query('testgroup == \"b\"').revenue.describe()"
   ]
  },
  {
   "cell_type": "code",
   "execution_count": 23,
   "metadata": {},
   "outputs": [
    {
     "data": {
      "text/plain": [
       "5421603"
      ]
     },
     "execution_count": 23,
     "metadata": {},
     "output_type": "execute_result"
    }
   ],
   "source": [
    "#Тестовая группа. Общая выручка\n",
    "df.query('testgroup == \"b\"').revenue.sum()"
   ]
  },
  {
   "cell_type": "code",
   "execution_count": 24,
   "metadata": {},
   "outputs": [
    {
     "data": {
      "text/plain": [
       "26.75128659327863"
      ]
     },
     "execution_count": 24,
     "metadata": {},
     "output_type": "execute_result"
    }
   ],
   "source": [
    "#Тестовая группа. Средний показатель выручки\n",
    "df.query('testgroup == \"b\"').revenue.describe().iloc[1]"
   ]
  },
  {
   "cell_type": "code",
   "execution_count": 25,
   "metadata": {},
   "outputs": [
    {
     "data": {
      "text/plain": [
       "count    1805.000000\n",
       "mean     3003.658172\n",
       "std       572.619709\n",
       "min      2000.000000\n",
       "25%      2513.000000\n",
       "50%      3022.000000\n",
       "75%      3478.000000\n",
       "max      4000.000000\n",
       "Name: revenue, dtype: float64"
      ]
     },
     "execution_count": 25,
     "metadata": {},
     "output_type": "execute_result"
    }
   ],
   "source": [
    "#Тестовая группа. Платящие пользователи\n",
    "df.query('testgroup == \"b\" & revenue > 0').revenue.describe()"
   ]
  },
  {
   "cell_type": "code",
   "execution_count": 26,
   "metadata": {},
   "outputs": [
    {
     "data": {
      "text/plain": [
       "0.8906235351586593"
      ]
     },
     "execution_count": 26,
     "metadata": {},
     "output_type": "execute_result"
    }
   ],
   "source": [
    "#Тестовая группа. Доля платящих пользователей\n",
    "df.query('testgroup == \"b\" & revenue > 0').user_id.nunique() / df.query('testgroup == \"b\"').user_id.nunique() * 100"
   ]
  },
  {
   "cell_type": "code",
   "execution_count": 27,
   "metadata": {},
   "outputs": [
    {
     "data": {
      "text/plain": [
       "3003.6581717451522"
      ]
     },
     "execution_count": 27,
     "metadata": {},
     "output_type": "execute_result"
    }
   ],
   "source": [
    "#Тестовая группа. Средний показатель выручки для платящих клиентов\n",
    "df.query('testgroup == \"b\" & revenue > 0').revenue.describe().iloc[1]"
   ]
  },
  {
   "cell_type": "code",
   "execution_count": 28,
   "metadata": {},
   "outputs": [
    {
     "data": {
      "text/html": [
       "<div>\n",
       "<style scoped>\n",
       "    .dataframe tbody tr th:only-of-type {\n",
       "        vertical-align: middle;\n",
       "    }\n",
       "\n",
       "    .dataframe tbody tr th {\n",
       "        vertical-align: top;\n",
       "    }\n",
       "\n",
       "    .dataframe thead th {\n",
       "        text-align: right;\n",
       "    }\n",
       "</style>\n",
       "<table border=\"1\" class=\"dataframe\">\n",
       "  <thead>\n",
       "    <tr style=\"text-align: right;\">\n",
       "      <th></th>\n",
       "      <th>revenue</th>\n",
       "    </tr>\n",
       "    <tr>\n",
       "      <th>user_id</th>\n",
       "      <th></th>\n",
       "    </tr>\n",
       "  </thead>\n",
       "  <tbody>\n",
       "    <tr>\n",
       "      <th>149619</th>\n",
       "      <td>4000</td>\n",
       "    </tr>\n",
       "    <tr>\n",
       "      <th>34358</th>\n",
       "      <td>4000</td>\n",
       "    </tr>\n",
       "    <tr>\n",
       "      <th>36473</th>\n",
       "      <td>3999</td>\n",
       "    </tr>\n",
       "    <tr>\n",
       "      <th>185455</th>\n",
       "      <td>3999</td>\n",
       "    </tr>\n",
       "    <tr>\n",
       "      <th>85615</th>\n",
       "      <td>3995</td>\n",
       "    </tr>\n",
       "    <tr>\n",
       "      <th>...</th>\n",
       "      <td>...</td>\n",
       "    </tr>\n",
       "    <tr>\n",
       "      <th>159970</th>\n",
       "      <td>2003</td>\n",
       "    </tr>\n",
       "    <tr>\n",
       "      <th>378688</th>\n",
       "      <td>2003</td>\n",
       "    </tr>\n",
       "    <tr>\n",
       "      <th>251211</th>\n",
       "      <td>2002</td>\n",
       "    </tr>\n",
       "    <tr>\n",
       "      <th>397184</th>\n",
       "      <td>2001</td>\n",
       "    </tr>\n",
       "    <tr>\n",
       "      <th>301171</th>\n",
       "      <td>2000</td>\n",
       "    </tr>\n",
       "  </tbody>\n",
       "</table>\n",
       "<p>1805 rows × 1 columns</p>\n",
       "</div>"
      ],
      "text/plain": [
       "         revenue\n",
       "user_id         \n",
       "149619      4000\n",
       "34358       4000\n",
       "36473       3999\n",
       "185455      3999\n",
       "85615       3995\n",
       "...          ...\n",
       "159970      2003\n",
       "378688      2003\n",
       "251211      2002\n",
       "397184      2001\n",
       "301171      2000\n",
       "\n",
       "[1805 rows x 1 columns]"
      ]
     },
     "execution_count": 28,
     "metadata": {},
     "output_type": "execute_result"
    }
   ],
   "source": [
    "#Посмотрим на распределение выручки по пользователям в тестовой группе\n",
    "df.query('testgroup == \"b\" & revenue > 0') \\\n",
    "    .groupby('user_id') \\\n",
    "    .agg({'revenue': 'sum'}) \\\n",
    "    .sort_values('revenue', ascending=False)"
   ]
  },
  {
   "cell_type": "code",
   "execution_count": 29,
   "metadata": {},
   "outputs": [
    {
     "data": {
      "text/plain": [
       "<Axes: >"
      ]
     },
     "execution_count": 29,
     "metadata": {},
     "output_type": "execute_result"
    },
    {
     "data": {
      "image/png": "[encoded data removed]",
      "text/plain": [
       "<Figure size 1000x500 with 1 Axes>"
      ]
     },
     "metadata": {},
     "output_type": "display_data"
    }
   ],
   "source": [
    "#В отличие от контрольной группы распределение показателей выручки пользователей достаточно равномерно - в пределах от 2000 до 4000\n",
    "fig = plt.figure(figsize = (10,5))\n",
    "ax = fig.gca()\n",
    "df.query('testgroup == \"b\" & revenue > 0').revenue.hist(ax=ax)"
   ]
  },
  {
   "cell_type": "markdown",
   "metadata": {},
   "source": [
    "**Тестовая группа(b)**\n",
    "\n",
    "- Средний показатель выручки по всей группе - **26.751287**;\n",
    "- Общая выручка по всей группе - **5 421 603**;\n",
    "- Количество платящих пользователей в группе - **1805**;\n",
    "- Доля платящих пользователей в группе - **0.89%**;\n",
    "- Средний показатель выручки по платящим пользователям в группе - **3003.658172**:\n",
    "    - Минимальный показатель выручки по платящим пользователям в группе - **2000**;\n",
    "    - Максимальный показатель выручки по платящим пользователям в группе - **4000**;"
   ]
  },
  {
   "cell_type": "code",
   "execution_count": 30,
   "metadata": {},
   "outputs": [
    {
     "data": {
      "text/html": [
       "<div>\n",
       "<style scoped>\n",
       "    .dataframe tbody tr th:only-of-type {\n",
       "        vertical-align: middle;\n",
       "    }\n",
       "\n",
       "    .dataframe tbody tr th {\n",
       "        vertical-align: top;\n",
       "    }\n",
       "\n",
       "    .dataframe thead th {\n",
       "        text-align: right;\n",
       "    }\n",
       "</style>\n",
       "<table border=\"1\" class=\"dataframe\">\n",
       "  <thead>\n",
       "    <tr style=\"text-align: right;\">\n",
       "      <th></th>\n",
       "      <th>group</th>\n",
       "      <th>users</th>\n",
       "      <th>revenue</th>\n",
       "      <th>pay_users</th>\n",
       "      <th>pay_users_share</th>\n",
       "      <th>ARPU</th>\n",
       "      <th>ARPPU</th>\n",
       "    </tr>\n",
       "  </thead>\n",
       "  <tbody>\n",
       "    <tr>\n",
       "      <th>0</th>\n",
       "      <td>control</td>\n",
       "      <td>202103</td>\n",
       "      <td>5136189</td>\n",
       "      <td>1928</td>\n",
       "      <td>0.953969</td>\n",
       "      <td>25.413720</td>\n",
       "      <td>2663.998444</td>\n",
       "    </tr>\n",
       "    <tr>\n",
       "      <th>1</th>\n",
       "      <td>test</td>\n",
       "      <td>202667</td>\n",
       "      <td>5421603</td>\n",
       "      <td>1805</td>\n",
       "      <td>0.890624</td>\n",
       "      <td>26.751287</td>\n",
       "      <td>3003.658172</td>\n",
       "    </tr>\n",
       "  </tbody>\n",
       "</table>\n",
       "</div>"
      ],
      "text/plain": [
       "     group   users  revenue  pay_users  pay_users_share       ARPU  \\\n",
       "0  control  202103  5136189       1928         0.953969  25.413720   \n",
       "1     test  202667  5421603       1805         0.890624  26.751287   \n",
       "\n",
       "         ARPPU  \n",
       "0  2663.998444  \n",
       "1  3003.658172  "
      ]
     },
     "execution_count": 30,
     "metadata": {},
     "output_type": "execute_result"
    }
   ],
   "source": [
    "#Для наглядности соберем основные показатели в таблицу\n",
    "data = {\n",
    "    'group' : ['control', 'test'],\n",
    "    'users' : [df.query('testgroup == \"a\"').user_id.nunique(), df.query('testgroup == \"b\"').user_id.nunique()],\n",
    "    'revenue' : [df.query('testgroup == \"a\"').revenue.sum() , df.query('testgroup == \"b\"').revenue.sum()],\n",
    "    'pay_users' : [df.query('testgroup == \"a\" & revenue > 0').user_id.nunique(), \n",
    "                   df.query('testgroup == \"b\" & revenue > 0').user_id.nunique()],\n",
    "    'pay_users_share' : [df.query('testgroup == \"a\" & revenue > 0').user_id.nunique() \n",
    "                         / df.query('testgroup == \"a\"').user_id.nunique() * 100, \n",
    "                         df.query('testgroup == \"b\" & revenue > 0').user_id.nunique()\n",
    "                         / df.query('testgroup == \"b\"').user_id.nunique() * 100],\n",
    "    'ARPU' : [df.query('testgroup == \"a\"').revenue.describe().iloc[1], \n",
    "              df.query('testgroup == \"b\"').revenue.describe().iloc[1]],\n",
    "    'ARPPU' : [df.query('testgroup == \"a\" & revenue > 0').revenue.describe().iloc[1], \n",
    "               df.query('testgroup == \"b\" & revenue > 0').revenue.describe().iloc[1]],\n",
    "}\n",
    "\n",
    "describe_df = pd.DataFrame(data)\n",
    "describe_df"
   ]
  },
  {
   "cell_type": "code",
   "execution_count": 31,
   "metadata": {},
   "outputs": [
    {
     "data": {
      "text/plain": [
       "5.263168360069903"
      ]
     },
     "execution_count": 31,
     "metadata": {},
     "output_type": "execute_result"
    }
   ],
   "source": [
    "#Изменение в ARPU\n",
    "(describe_df.ARPU[1] / describe_df.ARPU[0] - 1) * 100"
   ]
  },
  {
   "cell_type": "code",
   "execution_count": 32,
   "metadata": {},
   "outputs": [
    {
     "data": {
      "text/plain": [
       "12.749997227996346"
      ]
     },
     "execution_count": 32,
     "metadata": {},
     "output_type": "execute_result"
    }
   ],
   "source": [
    "#Изменение в ARPPU\n",
    "(describe_df.ARPPU[1] / describe_df.ARPPU[0] - 1) * 100"
   ]
  },
  {
   "cell_type": "code",
   "execution_count": 33,
   "metadata": {},
   "outputs": [
    {
     "data": {
      "text/plain": [
       "-6.640203150326496"
      ]
     },
     "execution_count": 33,
     "metadata": {},
     "output_type": "execute_result"
    }
   ],
   "source": [
    "#Изменение в доли платящих клиентов\n",
    "(describe_df.pay_users_share[1] / describe_df.pay_users_share[0] - 1) * 100"
   ]
  },
  {
   "cell_type": "markdown",
   "metadata": {},
   "source": [
    "**Итого по анализу групп:**\n",
    "- Средний показатель выручки по всем пользователям действительно больше в тестовой группе на **5%**;\n",
    "- Средний показатель выручки по платящим пользователям больше в тестовой группе больше на **13%**;\n",
    "- Доля платящих пользователей в тестовой группе меньше на **6.7%**;\n",
    "- В контрольной группе на **6%** пользователей пришлось **89%** всей выручки, в тестовой группе показатели распределены равномерно (в пределах **2000** и **4000**) и подобных выбросов не наблюдается. При этом если не учитывать экстремальные значения выручки в контрольной группе, то показатели выручки из тестовой (ср.,мин.,макс.) выше в 10 раз.\n",
    "\n",
    "Таким образом \"особые\" пользователи характерны только для контрольной группы. Несмотря на относительную схожесть средних показателей выручки по группам, получаются они максимально различно - если в тестовой группе показатели формируются равномерно по всем пользователям, то в контрольной серьезно влияет малая часть пользователей с высокими значениями, относительно бОльшей с низкими.\n",
    "\n",
    "Каких-либо дополнительных данных, которые могли бы пролить свет на такое распределение выручки в группах у нас нет, поэтому мы по сути остаемся с двумя равноценными предположениями:\n",
    "\n",
    "- На этапе сплитования групп были допущены неточности, что привело к таким результатам;\n",
    "- Пользователи в контрольной группе случайно взаимодействовали с максимально полярными акционными предложениями (или ,к примеру, использовали свой статус/подписку для таких предложений) в отличии от пользователей в тестовой.\n",
    "\n",
    "С учетом этого будем исходить из того, что это второй вариант возможны следующие шаги:\n",
    "\n",
    "- Применить статистические тесты к полученным данным\n",
    "- При выводах (в пользу какой-либо из групп) предложить повторно провести тестирование с учетом имеющегося опыта и крайне осторожно отнестись к результатам (плохим или хорошим)"
   ]
  },
  {
   "cell_type": "markdown",
   "metadata": {},
   "source": [
    "**Выбор метрик для анализа**"
   ]
  },
  {
   "cell_type": "markdown",
   "metadata": {},
   "source": [
    "На основе полученных данных и сферы деятельности компании можно предложить следующие метрики:\n",
    "\n",
    "- **ARPU** - среднее значение выручки по всем пользователям в группах;\n",
    "- **ARPPU** - среднее значение выручки по платящим пользователям в группах;\n",
    "- **Конверсия в платящего пользователя (CR to PU)** - процент платящих пользователей от общего кол-ва пользователей\n",
    "\n",
    "\"ARPPU\" и \"CR to PU\" могут рассматриваться как наиболее важные метрики с точки зрения того, что глобально мобильные игры часто зарабатывают лишь на небольшой доле пользователей (те самые платящие), которые генерируют большую часть доходов с пользователей. Акционные предложения в данном тесте как раз должны влиять на долю платящих пользователей и доходы от них."
   ]
  },
  {
   "cell_type": "markdown",
   "metadata": {},
   "source": [
    "**Выбор статистических тестов для анализа метрик**"
   ]
  },
  {
   "cell_type": "markdown",
   "metadata": {},
   "source": [
    "Показатели **ARPU** и **ARPPU** являются средними значениями двух выборок, поэтому можно рассмотреть применение **t-теста**.\n",
    "Однако есть специальные условия для его применения:\n",
    "\n",
    "- Дисперсии внутри групп должны быть примерно одинаковы*;\n",
    "- Данные обеих групп должны быть нормально распределены**.\n",
    "\n",
    "* В случае неравенства дисперсий внутри групп можно воспользоваться модификацией t-критерия Стюдента - критерием Уэлча \n",
    "\n",
    "На практике c выборками больших размеров требованием к нормальности распределения данных из групп можно не следовать досконально и воспользоваться тестом для сравнения средних.\n",
    "\n",
    "Показатель **конверсии в платящего пользователя**  является дискретным (0 - не было конверсии, 1 - была конверсия), поэтому можно обратиться к **критерию хи-квадрат**"
   ]
  },
  {
   "cell_type": "markdown",
   "metadata": {},
   "source": [
    "**ARPU**"
   ]
  },
  {
   "cell_type": "markdown",
   "metadata": {},
   "source": [
    "Проверим дисперсии на гомогенность с помощью критерия Левена"
   ]
  },
  {
   "cell_type": "code",
   "execution_count": 34,
   "metadata": {},
   "outputs": [],
   "source": [
    "#Подготовим данные для теста\n",
    "df_arpu_control = df.query('testgroup == \"a\"').revenue\n",
    "df_arpu_test = df.query('testgroup == \"b\"').revenue"
   ]
  },
  {
   "cell_type": "markdown",
   "metadata": {},
   "source": [
    "Гипотезы:\n",
    "\n",
    "**H0** - Дисперсии равны\n",
    "\n",
    "**H1** - Дисперсии не равны\n",
    "\n",
    "P-value = **0.05**"
   ]
  },
  {
   "cell_type": "code",
   "execution_count": 35,
   "metadata": {},
   "outputs": [
    {
     "name": "stdout",
     "output_type": "stream",
     "text": [
      "Не можем отклонить нулевую гипотезу о равенстве дисперсий между группами.\n",
      "P-value равно 0.5324948591043842.\n"
     ]
    }
   ],
   "source": [
    "if levene(df_arpu_control, df_arpu_test)[1] < 0.05:\n",
    "    print('Отклоняем нулевую гипотезу о равенстве дисперсий между группами.')\n",
    "    print(f'P-value равно {levene(df_arpu_control, df_arpu_test)[1]}.')\n",
    "else:\n",
    "    print('Не можем отклонить нулевую гипотезу о равенстве дисперсий между группами.')\n",
    "    print(f'P-value равно {levene(df_arpu_control, df_arpu_test)[1]}.')"
   ]
  },
  {
   "cell_type": "markdown",
   "metadata": {},
   "source": [
    "Дисперсии равны. \n",
    "Теперь посмотрим нормально ли распределение. Ранее на графике уже было видно, что выручка в контрольной группе имеет либо очень малые, либо очень большие значения, а в тестовой распределена равномерно"
   ]
  },
  {
   "cell_type": "code",
   "execution_count": 36,
   "metadata": {},
   "outputs": [
    {
     "data": {
      "text/plain": [
       "<seaborn.axisgrid.FacetGrid at 0x147c68a50>"
      ]
     },
     "execution_count": 36,
     "metadata": {},
     "output_type": "execute_result"
    },
    {
     "data": {
      "image/png": "[encoded data removed]",
      "text/plain": [
       "<Figure size 1678.24x800 with 1 Axes>"
      ]
     },
     "metadata": {},
     "output_type": "display_data"
    }
   ],
   "source": [
    "#Такое распределение точно нельзя назвать нормальным ни для контрольной(a), ни для тестовой(b) групп\n",
    "sns.displot(data=df, x=\"revenue\", hue=\"testgroup\", kind=\"kde\", rug=True, height=8, aspect=2)"
   ]
  },
  {
   "cell_type": "markdown",
   "metadata": {},
   "source": [
    "Ранее отметили, что большой размер выборок позволяет применять тест при отсутствии нормального распределения данных, поэтому приступим"
   ]
  },
  {
   "cell_type": "markdown",
   "metadata": {},
   "source": [
    "Гипотезы:\n",
    "\n",
    "**H0** - Показатель ARPU в контрольной и тестовой группах не отличается \n",
    "\n",
    "**H1** - Показатель ARPU в контрольной и тестовой группах отличается\n",
    "\n",
    "P-value = **0.05**"
   ]
  },
  {
   "cell_type": "code",
   "execution_count": 37,
   "metadata": {},
   "outputs": [
    {
     "name": "stdout",
     "output_type": "stream",
     "text": [
      "Не можем отклонить нулевую гипотезу об отсутствии различий показателя ARPU между группами.\n",
      "P-value is 0.532494858971837.\n"
     ]
    }
   ],
   "source": [
    "if stats.ttest_ind(a=df_arpu_control, b=df_arpu_test)[1] < 0.05:\n",
    "    print('Отклоняем нулевую гипотезу об отсутствии различий показателя ARPU между группами.')\n",
    "    print(f'P-value равно {stats.ttest_ind(a=df_arpu_control, b=df_arpu_test)[1]}.')\n",
    "else:\n",
    "    print('Не можем отклонить нулевую гипотезу об отсутствии различий показателя ARPU между группами.')\n",
    "    print(f'P-value is {stats.ttest_ind(a=df_arpu_control, b=df_arpu_test)[1]}.')"
   ]
  },
  {
   "cell_type": "markdown",
   "metadata": {},
   "source": [
    "По результатам теста можем принять нулевую гипотезу об отсутствии различий между группами по показателю ARPU"
   ]
  },
  {
   "cell_type": "markdown",
   "metadata": {},
   "source": [
    "**ARPPU**"
   ]
  },
  {
   "cell_type": "markdown",
   "metadata": {},
   "source": [
    "Проверим дисперсии на гомогенность с помощью критерия Левена"
   ]
  },
  {
   "cell_type": "code",
   "execution_count": 38,
   "metadata": {},
   "outputs": [],
   "source": [
    "#Подготовим данные для теста\n",
    "df_arppu_control = df.query('testgroup == \"a\" & revenue > 0').revenue\n",
    "df_arppu_test = df.query('testgroup == \"b\" & revenue > 0').revenue"
   ]
  },
  {
   "cell_type": "markdown",
   "metadata": {},
   "source": [
    "Гипотезы:\n",
    "\n",
    "**H0** - Дисперсии равны\n",
    "\n",
    "**H1** - Дисперсии не равны\n",
    "\n",
    "P-value = **0.05**"
   ]
  },
  {
   "cell_type": "code",
   "execution_count": 39,
   "metadata": {},
   "outputs": [
    {
     "name": "stdout",
     "output_type": "stream",
     "text": [
      "Отклоняем нулевую гипотезу о равенстве дисперсий между группами.\n",
      "P-value равно 3.779689868667878e-19.\n"
     ]
    }
   ],
   "source": [
    "if levene(df_arppu_control, df_arppu_test)[1] < 0.05:\n",
    "    print('Отклоняем нулевую гипотезу о равенстве дисперсий между группами.')\n",
    "    print(f'P-value равно {levene(df_arppu_control, df_arppu_test)[1]}.')\n",
    "else:\n",
    "    print('Не можем отклонить нулевую гипотезу о равенстве дисперсий между группами.')\n",
    "    print(f'P-value равно {levene(df_arppu_control, df_arppu_test)[1]}.')"
   ]
  },
  {
   "cell_type": "markdown",
   "metadata": {},
   "source": [
    "Дисперсии не равны. Также посмотрим на нормальность распределения"
   ]
  },
  {
   "cell_type": "code",
   "execution_count": 40,
   "metadata": {},
   "outputs": [
    {
     "data": {
      "text/plain": [
       "<seaborn.axisgrid.FacetGrid at 0x147da1c10>"
      ]
     },
     "execution_count": 40,
     "metadata": {},
     "output_type": "execute_result"
    },
    {
     "data": {
      "image/png": "[encoded data removed]",
      "text/plain": [
       "<Figure size 1678.24x800 with 1 Axes>"
      ]
     },
     "metadata": {},
     "output_type": "display_data"
    }
   ],
   "source": [
    "#Такое распределение точно нельзя назвать нормальным ни для контрольной(a), ни для тестовой(b) групп\n",
    "revenue_df = df.groupby(['user_id', 'testgroup'], as_index = False).sum('revenue').query('revenue > 0')\n",
    "sns.displot(data=revenue_df, x=\"revenue\", hue=\"testgroup\", kind=\"kde\", rug=True, height=8, aspect=2)"
   ]
  },
  {
   "cell_type": "markdown",
   "metadata": {},
   "source": [
    "В случае неравенства дисперсий и большого размера выборок можем воспользоваться модификацией t-критерия Стюдента - критерием Уэлча (добавляем настройку equal_var=False)"
   ]
  },
  {
   "cell_type": "markdown",
   "metadata": {},
   "source": [
    "Гипотезы:\n",
    "\n",
    "**H0** - Показатель ARPPU в контрольной и тестовой группах не отличается \n",
    "\n",
    "**H1** - Показатель ARPPU в контрольной и тестовой группах отличается\n",
    "\n",
    "P-value = **0.05**"
   ]
  },
  {
   "cell_type": "code",
   "execution_count": 41,
   "metadata": {},
   "outputs": [
    {
     "name": "stdout",
     "output_type": "stream",
     "text": [
      "Не можем отклонить нулевую гипотезу об отсутствии различий показателя ARPU между группами.\n",
      "P-value is 0.11153459157259497.\n"
     ]
    }
   ],
   "source": [
    "if stats.ttest_ind(a=df_arppu_control, b=df_arppu_test, equal_var=False)[1] < 0.05:\n",
    "    print('Отклоняем нулевую гипотезу об отсутствии различий показателя ARPU между группами.')\n",
    "    print(f'P-value равно {stats.ttest_ind(a=df_arppu_control, b=df_arppu_test)[1]}.')\n",
    "else:\n",
    "    print('Не можем отклонить нулевую гипотезу об отсутствии различий показателя ARPU между группами.')\n",
    "    print(f'P-value is {stats.ttest_ind(a=df_arppu_control, b=df_arppu_test)[1]}.')"
   ]
  },
  {
   "cell_type": "markdown",
   "metadata": {},
   "source": [
    "По результатам теста можем принять нулевую гипотезу об отсутствии различий между группами по показателю ARPPU"
   ]
  },
  {
   "cell_type": "markdown",
   "metadata": {},
   "source": [
    "**CR**"
   ]
  },
  {
   "cell_type": "code",
   "execution_count": 42,
   "metadata": {},
   "outputs": [
    {
     "data": {
      "text/html": [
       "<div>\n",
       "<style scoped>\n",
       "    .dataframe tbody tr th:only-of-type {\n",
       "        vertical-align: middle;\n",
       "    }\n",
       "\n",
       "    .dataframe tbody tr th {\n",
       "        vertical-align: top;\n",
       "    }\n",
       "\n",
       "    .dataframe thead th {\n",
       "        text-align: right;\n",
       "    }\n",
       "</style>\n",
       "<table border=\"1\" class=\"dataframe\">\n",
       "  <thead>\n",
       "    <tr style=\"text-align: right;\">\n",
       "      <th></th>\n",
       "      <th>0</th>\n",
       "      <th>1</th>\n",
       "    </tr>\n",
       "  </thead>\n",
       "  <tbody>\n",
       "    <tr>\n",
       "      <th>pay_users</th>\n",
       "      <td>1928</td>\n",
       "      <td>1805</td>\n",
       "    </tr>\n",
       "    <tr>\n",
       "      <th>no_pay_users</th>\n",
       "      <td>200175</td>\n",
       "      <td>200862</td>\n",
       "    </tr>\n",
       "  </tbody>\n",
       "</table>\n",
       "</div>"
      ],
      "text/plain": [
       "                   0       1\n",
       "pay_users       1928    1805\n",
       "no_pay_users  200175  200862"
      ]
     },
     "execution_count": 42,
     "metadata": {},
     "output_type": "execute_result"
    }
   ],
   "source": [
    "#Подготовим таблицу сопряженности - для этого нам нужны данные по клиентам, которые совершали оплату (pay_users) \n",
    "#и те кто ее не совершал (no_pay_users) для обеих групп (0 - контрольная, 1 - тестовая)\n",
    "describe_df['no_pay_users'] = describe_df['users'] - describe_df['pay_users']\n",
    "df_cr = describe_df[['pay_users', 'no_pay_users']].transpose()\n",
    "df_cr"
   ]
  },
  {
   "cell_type": "markdown",
   "metadata": {},
   "source": [
    "Воспользуемся критерием хи-квадрат для оценки изменений в конверсиях"
   ]
  },
  {
   "cell_type": "markdown",
   "metadata": {},
   "source": [
    "Гипотезы:\n",
    "\n",
    "**H0** - Показатель **CR** в контрольной и тестовой группах не отличается \n",
    "\n",
    "**H1** - Показатель **CR** в контрольной и тестовой группах отличается\n",
    "\n",
    "P-value = **0.05**"
   ]
  },
  {
   "cell_type": "code",
   "execution_count": 43,
   "metadata": {},
   "outputs": [
    {
     "name": "stdout",
     "output_type": "stream",
     "text": [
      "Отклоняем нулевую гипотезу об отсутствии различий показателя CR между группами.\n",
      "P-value равно 0.03647561892312613.\n"
     ]
    }
   ],
   "source": [
    "if chi2_contingency(df_cr)[1] < 0.05:\n",
    "    print('Отклоняем нулевую гипотезу об отсутствии различий показателя CR между группами.')\n",
    "    print(f'P-value равно {chi2_contingency(df_cr)[1]}.')\n",
    "else:\n",
    "    print('Не можем отклонить нулевую гипотезу об отсутствии различий показателя CR между группами.')\n",
    "    print(f'P-value is {chi2_contingency(df_cr)[1]}.')"
   ]
  },
  {
   "cell_type": "markdown",
   "metadata": {},
   "source": [
    "По результатам теста не можем принять нулевую гипотезу об отсутствии  различий в коверсиях между группами - конверсия в платящих пользователей в тестовой группе ниже на 6,4%"
   ]
  },
  {
   "cell_type": "markdown",
   "metadata": {},
   "source": [
    "## Вывод"
   ]
  },
  {
   "cell_type": "code",
   "execution_count": 44,
   "metadata": {},
   "outputs": [
    {
     "data": {
      "text/html": [
       "<div>\n",
       "<style scoped>\n",
       "    .dataframe tbody tr th:only-of-type {\n",
       "        vertical-align: middle;\n",
       "    }\n",
       "\n",
       "    .dataframe tbody tr th {\n",
       "        vertical-align: top;\n",
       "    }\n",
       "\n",
       "    .dataframe thead th {\n",
       "        text-align: right;\n",
       "    }\n",
       "</style>\n",
       "<table border=\"1\" class=\"dataframe\">\n",
       "  <thead>\n",
       "    <tr style=\"text-align: right;\">\n",
       "      <th></th>\n",
       "      <th>0</th>\n",
       "      <th>1</th>\n",
       "      <th>diff_percentage</th>\n",
       "      <th>significance</th>\n",
       "    </tr>\n",
       "  </thead>\n",
       "  <tbody>\n",
       "    <tr>\n",
       "      <th>ARPU</th>\n",
       "      <td>25.413720</td>\n",
       "      <td>26.751287</td>\n",
       "      <td>5.263168</td>\n",
       "      <td>Not Significant</td>\n",
       "    </tr>\n",
       "    <tr>\n",
       "      <th>ARPPU</th>\n",
       "      <td>2663.998444</td>\n",
       "      <td>3003.658172</td>\n",
       "      <td>12.749997</td>\n",
       "      <td>Not Significant</td>\n",
       "    </tr>\n",
       "    <tr>\n",
       "      <th>pay_users_share</th>\n",
       "      <td>0.953969</td>\n",
       "      <td>0.890624</td>\n",
       "      <td>-6.640203</td>\n",
       "      <td>Significant</td>\n",
       "    </tr>\n",
       "  </tbody>\n",
       "</table>\n",
       "</div>"
      ],
      "text/plain": [
       "                           0            1  diff_percentage     significance\n",
       "ARPU               25.413720    26.751287         5.263168  Not Significant\n",
       "ARPPU            2663.998444  3003.658172        12.749997  Not Significant\n",
       "pay_users_share     0.953969     0.890624        -6.640203      Significant"
      ]
     },
     "execution_count": 44,
     "metadata": {},
     "output_type": "execute_result"
    }
   ],
   "source": [
    "#Подготовим таблицу для наглядности\n",
    "conclusion_df = describe_df[['ARPU', 'ARPPU', 'pay_users_share']].transpose()\n",
    "conclusion_df['diff_percentage'] = (conclusion_df[1] / conclusion_df[0] - 1) * 100\n",
    "conclusion_df['significance'] = ['Not Significant','Not Significant','Significant']\n",
    "conclusion_df"
   ]
  },
  {
   "cell_type": "markdown",
   "metadata": {},
   "source": [
    "Результатом проведенных тестов стали отсутствие стат.значимых различий по метрикам ARPU и ARPPU между контрольной и тестовой группами, а также значимое различие в пользу контрольной группы по показателю конверсии в платящего пользователя. \n",
    "\n",
    "Акционные предложения, которые предоставлялись в контрольной группе, активнее конвертируют пользователей в источник дохода. Также можно предположить, что чем больше  платящих пользователей будет аккумулироваться благодаря таким предложениям, тем выше потенциально будет становиться показатель ARPU (не радикально выше, но все равно).\n",
    "\n",
    "В таком разрезе было бы логично советовать идти далее с акционными предложениями из контрольной группы, **но** с учетом необычных данных, которые мы наблюдали при анализе было бы неплохо попробовать провести подобный тест еще раз, сделав акцент на этапе формирования групп "
   ]
  }
 ],
 "metadata": {
  "kernelspec": {
   "display_name": "Python 3 (ipykernel)",
   "language": "python",
   "name": "python3"
  },
  "language_info": {
   "codemirror_mode": {
    "name": "ipython",
    "version": 3
   },
   "file_extension": ".py",
   "mimetype": "text/x-python",
   "name": "python",
   "nbconvert_exporter": "python",
   "pygments_lexer": "ipython3",
   "version": "3.11.7"
  }
 },
 "nbformat": 4,
 "nbformat_minor": 4
}
